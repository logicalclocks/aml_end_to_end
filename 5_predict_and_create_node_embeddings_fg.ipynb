{
 "cells": [
  {
   "cell_type": "markdown",
   "metadata": {},
   "source": [
    "# Create node embeddings feature groups.\n",
    "\n",
    "Up until now we use feature engineering, feature store and model training to create node embedding. We will now materialise this as node embeddings feature group. This feature group will be used to train anomaly detection model.\n",
    "\n",
    "![Feature Stores](./images/online_offline_fs.png)"
   ]
  },
  {
   "cell_type": "markdown",
   "metadata": {},
   "source": [
    "---\n",
    "**NOTE**: \n",
    "\n",
    "In real life scenarios financial transaction are dynamically evolving graphs. If live Transaction Monitoring System is based on graph or node embeddings then this will require 1st to update the graph and node representations after new transactions arrive. Recomputing entire graph for every newly arrived transaction will lead to unaxeptable delayes and even monitoring system failures. This problem  will be more sever if large amount of updates happen in a short time window.\n",
    "\n",
    "Contact us at Logical Clocks and we will help you to setup end to end graph based deep anomaly detection live Transaction Monitoring Systems. \n",
    "\n",
    "---"
   ]
  },
  {
   "cell_type": "markdown",
   "metadata": {},
   "source": [
    "## Query Model Repository for best node embeddings model"
   ]
  },
  {
   "cell_type": "code",
   "execution_count": 1,
   "metadata": {},
   "outputs": [
    {
     "name": "stdout",
     "output_type": "stream",
     "text": [
      "Connected. Call `.close()` to terminate connection gracefully.\n"
     ]
    }
   ],
   "source": [
    "import hsml\n",
    "\n",
    "conn = hsml.connection()\n",
    "mr = conn.get_model_registry()\n",
    "\n",
    "MODEL_NAME=\"NodeEmbeddings\"\n",
    "EVALUATION_METRIC=\"accuracy\"\n"
   ]
  },
  {
   "cell_type": "code",
   "execution_count": 2,
   "metadata": {},
   "outputs": [],
   "source": [
    "best_model = mr.get_best_model(MODEL_NAME, EVALUATION_METRIC, \"max\")"
   ]
  },
  {
   "cell_type": "code",
   "execution_count": 3,
   "metadata": {},
   "outputs": [
    {
     "name": "stdout",
     "output_type": "stream",
     "text": [
      "Model name: NodeEmbeddings\n",
      "Model version: 1\n",
      "{'accuracy': '0.7269180417060852'}\n"
     ]
    }
   ],
   "source": [
    "print('Model name: ' + best_model.name)\n",
    "print('Model version: ' + str(best_model.version))\n",
    "print(best_model.training_metrics)"
   ]
  },
  {
   "cell_type": "markdown",
   "metadata": {},
   "source": [
    "## Define model and load wights "
   ]
  },
  {
   "cell_type": "code",
   "execution_count": 5,
   "metadata": {},
   "outputs": [],
   "source": [
    "import json\n",
    "\n",
    "# tensorflow \n",
    "import tensorflow as tf\n",
    "from tensorflow import keras  \n",
    "\n",
    "# pandas and numpy\n",
    "import numpy as np\n",
    "import pandas as pd\n",
    "\n",
    "# stellargraph library\n",
    "from stellargraph import StellarDiGraph\n",
    "from stellargraph.mapper import Node2VecLinkGenerator, Node2VecNodeGenerator\n",
    "from stellargraph.data import UnsupervisedSampler, BiasedRandomWalk\n",
    "from stellargraph.layer import Node2Vec\n",
    "\n",
    "# hops utility library for accessing files in HopsFS\n",
    "from hops import hdfs"
   ]
  },
  {
   "cell_type": "markdown",
   "metadata": {},
   "source": [
    "## connect hsfs library and get fs handle"
   ]
  },
  {
   "cell_type": "code",
   "execution_count": 6,
   "metadata": {},
   "outputs": [
    {
     "name": "stdout",
     "output_type": "stream",
     "text": [
      "Connected. Call `.close()` to terminate connection gracefully.\n"
     ]
    }
   ],
   "source": [
    "import hsfs\n",
    "# Create a connection\n",
    "connection = hsfs.connection()\n",
    "# Get the feature store handle for the project's feature store\n",
    "fs = connection.get_feature_store()"
   ]
  },
  {
   "cell_type": "markdown",
   "metadata": {},
   "source": [
    "### Get node and edge traininhg dataset objects "
   ]
  },
  {
   "cell_type": "code",
   "execution_count": 8,
   "metadata": {},
   "outputs": [
    {
     "name": "stderr",
     "output_type": "stream",
     "text": [
      "FutureWarning: pyarrow.hdfs.HadoopFileSystem is deprecated as of 2.0.0, please use pyarrow.fs.HadoopFileSystem instead.\n"
     ]
    }
   ],
   "source": [
    "# Get nodes and edges feature view from hsfs\n",
    "node_fv = fs.get_feature_view(\n",
    "        name = 'nodes_feature_view',\n",
    "        version = 1\n",
    "    )\n",
    "    \n",
    "edge_fv = fs.get_feature_view(\n",
    "        name = 'edges_feature_view',\n",
    "        version = 1\n",
    "    )\n",
    "\n",
    "# Get nodes and edges training datasets from hsfs \n",
    "_, node_pdf = node_fv.get_training_dataset(version = 1)\n",
    "    \n",
    "_, edge_pdf_2020 = edge_fv.get_training_dataset(version = 1)\n",
    "_, edge_pdf_2021 = edge_fv.get_training_dataset(version = 2)\n",
    "edge_pdf = edge_pdf_2020.append(edge_pdf_2021, ignore_index=True)"
   ]
  },
  {
   "cell_type": "markdown",
   "metadata": {},
   "source": [
    "### Read hyperparamenter for graph embeddings"
   ]
  },
  {
   "cell_type": "code",
   "execution_count": 9,
   "metadata": {},
   "outputs": [],
   "source": [
    "best_hyperparams_path = \"Resources/embeddings_best_hp.json\"\n",
    "best_hyperparams = json.loads(hdfs.load(best_hyperparams_path))\n",
    "args_dict = {}\n",
    "for key in best_hyperparams.keys():\n",
    "    args_dict[key] = [best_hyperparams[key]]"
   ]
  },
  {
   "cell_type": "markdown",
   "metadata": {},
   "source": [
    "### Construct stellargraph Graph object"
   ]
  },
  {
   "cell_type": "code",
   "execution_count": 11,
   "metadata": {},
   "outputs": [
    {
     "name": "stdout",
     "output_type": "stream",
     "text": [
      "Defining StellarDiGraph\n"
     ]
    }
   ],
   "source": [
    "node_data = pd.DataFrame(node_pdf[['type']], index=node_pdf['id'])\n",
    "print('Defining StellarDiGraph')\n",
    "G =StellarDiGraph(node_data,\n",
    "                      edges=edge_pdf)"
   ]
  },
  {
   "cell_type": "markdown",
   "metadata": {},
   "source": [
    "### infer node embeddings"
   ]
  },
  {
   "cell_type": "code",
   "execution_count": 12,
   "metadata": {},
   "outputs": [],
   "source": [
    "walk_number = args_dict['walk_number']\n",
    "walk_length = args_dict['walk_length']\n",
    "batch_size = 1\n",
    "emb_size = args_dict['emb_size'][0]\n",
    "# Extracting node embeddings\n",
    "walker = BiasedRandomWalk(\n",
    "        G,\n",
    "        n=walk_number,\n",
    "        length=walk_length,\n",
    "        p=0.5,  # defines probability, 1/p, of returning to source node\n",
    "        q=2.0,  # defines probability, 1/q, for moving to a node away from the source node\n",
    "    )\n",
    "unsupervised_samples = UnsupervisedSampler(G, nodes=list(G.nodes()), walker=walker)\n",
    "generator = Node2VecLinkGenerator(G, batch_size)\n",
    "\n",
    "node2vec = Node2Vec(emb_size, generator=generator)\n",
    "x_inp, x_out = node2vec.in_out_tensors()\n",
    "\n",
    "x_inp_src = x_inp[0]\n",
    "x_out_src = x_out[0]\n",
    "embedding_model = keras.Model(inputs=x_inp_src, outputs=x_out_src)"
   ]
  },
  {
   "cell_type": "code",
   "execution_count": 13,
   "metadata": {},
   "outputs": [],
   "source": [
    "nodes = list(G.nodes())\n",
    "node_gen = Node2VecNodeGenerator(G, batch_size).flow(nodes)"
   ]
  },
  {
   "cell_type": "code",
   "execution_count": 16,
   "metadata": {},
   "outputs": [],
   "source": [
    "node_embeddings_df = pd.DataFrame(embedding_model.predict(node_gen), index=G.nodes())"
   ]
  },
  {
   "cell_type": "code",
   "execution_count": 17,
   "metadata": {},
   "outputs": [],
   "source": [
    "emb_feature_names = [\"em_\" + str(c)  for c in node_embeddings_df.columns]\n",
    "node_embeddings_df.columns = emb_feature_names\n",
    "node_embeddings_df['id'] = node_embeddings_df.index"
   ]
  },
  {
   "cell_type": "code",
   "execution_count": 18,
   "metadata": {},
   "outputs": [
    {
     "data": {
      "text/html": [
       "<div>\n",
       "<style scoped>\n",
       "    .dataframe tbody tr th:only-of-type {\n",
       "        vertical-align: middle;\n",
       "    }\n",
       "\n",
       "    .dataframe tbody tr th {\n",
       "        vertical-align: top;\n",
       "    }\n",
       "\n",
       "    .dataframe thead th {\n",
       "        text-align: right;\n",
       "    }\n",
       "</style>\n",
       "<table border=\"1\" class=\"dataframe\">\n",
       "  <thead>\n",
       "    <tr style=\"text-align: right;\">\n",
       "      <th></th>\n",
       "      <th>em_0</th>\n",
       "      <th>em_1</th>\n",
       "      <th>em_2</th>\n",
       "      <th>em_3</th>\n",
       "      <th>em_4</th>\n",
       "      <th>em_5</th>\n",
       "      <th>em_6</th>\n",
       "      <th>em_7</th>\n",
       "      <th>em_8</th>\n",
       "      <th>em_9</th>\n",
       "      <th>...</th>\n",
       "      <th>em_23</th>\n",
       "      <th>em_24</th>\n",
       "      <th>em_25</th>\n",
       "      <th>em_26</th>\n",
       "      <th>em_27</th>\n",
       "      <th>em_28</th>\n",
       "      <th>em_29</th>\n",
       "      <th>em_30</th>\n",
       "      <th>em_31</th>\n",
       "      <th>id</th>\n",
       "    </tr>\n",
       "    <tr>\n",
       "      <th>id</th>\n",
       "      <th></th>\n",
       "      <th></th>\n",
       "      <th></th>\n",
       "      <th></th>\n",
       "      <th></th>\n",
       "      <th></th>\n",
       "      <th></th>\n",
       "      <th></th>\n",
       "      <th></th>\n",
       "      <th></th>\n",
       "      <th></th>\n",
       "      <th></th>\n",
       "      <th></th>\n",
       "      <th></th>\n",
       "      <th></th>\n",
       "      <th></th>\n",
       "      <th></th>\n",
       "      <th></th>\n",
       "      <th></th>\n",
       "      <th></th>\n",
       "      <th></th>\n",
       "    </tr>\n",
       "  </thead>\n",
       "  <tbody>\n",
       "    <tr>\n",
       "      <th>90edf3b3</th>\n",
       "      <td>0.884438</td>\n",
       "      <td>0.171425</td>\n",
       "      <td>-0.587368</td>\n",
       "      <td>-0.046652</td>\n",
       "      <td>0.700641</td>\n",
       "      <td>-0.078287</td>\n",
       "      <td>0.904313</td>\n",
       "      <td>0.330084</td>\n",
       "      <td>-0.222736</td>\n",
       "      <td>0.720094</td>\n",
       "      <td>...</td>\n",
       "      <td>0.878541</td>\n",
       "      <td>0.637493</td>\n",
       "      <td>0.101538</td>\n",
       "      <td>-0.864437</td>\n",
       "      <td>-0.506918</td>\n",
       "      <td>-0.733507</td>\n",
       "      <td>-0.261949</td>\n",
       "      <td>0.809876</td>\n",
       "      <td>0.751352</td>\n",
       "      <td>90edf3b3</td>\n",
       "    </tr>\n",
       "    <tr>\n",
       "      <th>f3e394b3</th>\n",
       "      <td>0.631339</td>\n",
       "      <td>-0.587456</td>\n",
       "      <td>0.089011</td>\n",
       "      <td>0.111260</td>\n",
       "      <td>-0.083255</td>\n",
       "      <td>0.845549</td>\n",
       "      <td>-0.043291</td>\n",
       "      <td>0.125343</td>\n",
       "      <td>-0.366857</td>\n",
       "      <td>-0.827737</td>\n",
       "      <td>...</td>\n",
       "      <td>-0.238882</td>\n",
       "      <td>0.319524</td>\n",
       "      <td>0.934617</td>\n",
       "      <td>0.226567</td>\n",
       "      <td>0.637395</td>\n",
       "      <td>-0.352562</td>\n",
       "      <td>-0.707387</td>\n",
       "      <td>-0.937521</td>\n",
       "      <td>0.598549</td>\n",
       "      <td>f3e394b3</td>\n",
       "    </tr>\n",
       "    <tr>\n",
       "      <th>f4f7c3ff</th>\n",
       "      <td>0.541005</td>\n",
       "      <td>-0.071699</td>\n",
       "      <td>0.264466</td>\n",
       "      <td>-0.991774</td>\n",
       "      <td>-0.270700</td>\n",
       "      <td>-0.303992</td>\n",
       "      <td>0.496623</td>\n",
       "      <td>0.369185</td>\n",
       "      <td>-0.069429</td>\n",
       "      <td>0.744717</td>\n",
       "      <td>...</td>\n",
       "      <td>0.790734</td>\n",
       "      <td>0.574312</td>\n",
       "      <td>-0.619517</td>\n",
       "      <td>-0.396369</td>\n",
       "      <td>-0.324199</td>\n",
       "      <td>0.795869</td>\n",
       "      <td>0.293409</td>\n",
       "      <td>0.802166</td>\n",
       "      <td>0.169027</td>\n",
       "      <td>f4f7c3ff</td>\n",
       "    </tr>\n",
       "    <tr>\n",
       "      <th>ba504e94</th>\n",
       "      <td>0.634268</td>\n",
       "      <td>-0.108996</td>\n",
       "      <td>0.483871</td>\n",
       "      <td>0.773440</td>\n",
       "      <td>0.524577</td>\n",
       "      <td>0.949731</td>\n",
       "      <td>0.485697</td>\n",
       "      <td>-0.465637</td>\n",
       "      <td>0.297805</td>\n",
       "      <td>0.705992</td>\n",
       "      <td>...</td>\n",
       "      <td>0.821905</td>\n",
       "      <td>-0.726782</td>\n",
       "      <td>-0.478064</td>\n",
       "      <td>-0.923091</td>\n",
       "      <td>-0.817952</td>\n",
       "      <td>-0.329499</td>\n",
       "      <td>0.565050</td>\n",
       "      <td>0.595801</td>\n",
       "      <td>-0.354519</td>\n",
       "      <td>ba504e94</td>\n",
       "    </tr>\n",
       "    <tr>\n",
       "      <th>ff3b05c4</th>\n",
       "      <td>0.998889</td>\n",
       "      <td>0.828497</td>\n",
       "      <td>0.833624</td>\n",
       "      <td>0.729858</td>\n",
       "      <td>-0.350022</td>\n",
       "      <td>0.345915</td>\n",
       "      <td>-0.003610</td>\n",
       "      <td>-0.440018</td>\n",
       "      <td>0.780548</td>\n",
       "      <td>0.194602</td>\n",
       "      <td>...</td>\n",
       "      <td>-0.471269</td>\n",
       "      <td>0.993464</td>\n",
       "      <td>0.699982</td>\n",
       "      <td>0.240239</td>\n",
       "      <td>0.165529</td>\n",
       "      <td>0.597960</td>\n",
       "      <td>0.325680</td>\n",
       "      <td>-0.309894</td>\n",
       "      <td>0.072704</td>\n",
       "      <td>ff3b05c4</td>\n",
       "    </tr>\n",
       "  </tbody>\n",
       "</table>\n",
       "<p>5 rows × 33 columns</p>\n",
       "</div>"
      ],
      "text/plain": [
       "              em_0      em_1      em_2      em_3      em_4      em_5  \\\n",
       "id                                                                     \n",
       "90edf3b3  0.884438  0.171425 -0.587368 -0.046652  0.700641 -0.078287   \n",
       "f3e394b3  0.631339 -0.587456  0.089011  0.111260 -0.083255  0.845549   \n",
       "f4f7c3ff  0.541005 -0.071699  0.264466 -0.991774 -0.270700 -0.303992   \n",
       "ba504e94  0.634268 -0.108996  0.483871  0.773440  0.524577  0.949731   \n",
       "ff3b05c4  0.998889  0.828497  0.833624  0.729858 -0.350022  0.345915   \n",
       "\n",
       "              em_6      em_7      em_8      em_9  ...     em_23     em_24  \\\n",
       "id                                                ...                       \n",
       "90edf3b3  0.904313  0.330084 -0.222736  0.720094  ...  0.878541  0.637493   \n",
       "f3e394b3 -0.043291  0.125343 -0.366857 -0.827737  ... -0.238882  0.319524   \n",
       "f4f7c3ff  0.496623  0.369185 -0.069429  0.744717  ...  0.790734  0.574312   \n",
       "ba504e94  0.485697 -0.465637  0.297805  0.705992  ...  0.821905 -0.726782   \n",
       "ff3b05c4 -0.003610 -0.440018  0.780548  0.194602  ... -0.471269  0.993464   \n",
       "\n",
       "             em_25     em_26     em_27     em_28     em_29     em_30  \\\n",
       "id                                                                     \n",
       "90edf3b3  0.101538 -0.864437 -0.506918 -0.733507 -0.261949  0.809876   \n",
       "f3e394b3  0.934617  0.226567  0.637395 -0.352562 -0.707387 -0.937521   \n",
       "f4f7c3ff -0.619517 -0.396369 -0.324199  0.795869  0.293409  0.802166   \n",
       "ba504e94 -0.478064 -0.923091 -0.817952 -0.329499  0.565050  0.595801   \n",
       "ff3b05c4  0.699982  0.240239  0.165529  0.597960  0.325680 -0.309894   \n",
       "\n",
       "             em_31        id  \n",
       "id                            \n",
       "90edf3b3  0.751352  90edf3b3  \n",
       "f3e394b3  0.598549  f3e394b3  \n",
       "f4f7c3ff  0.169027  f4f7c3ff  \n",
       "ba504e94 -0.354519  ba504e94  \n",
       "ff3b05c4  0.072704  ff3b05c4  \n",
       "\n",
       "[5 rows x 33 columns]"
      ]
     },
     "execution_count": 18,
     "metadata": {},
     "output_type": "execute_result"
    }
   ],
   "source": [
    "node_embeddings_df.head()"
   ]
  },
  {
   "cell_type": "code",
   "execution_count": 26,
   "metadata": {},
   "outputs": [],
   "source": [
    "node_embeddings_df[\"embedding\"] = node_embeddings_df[emb_feature_names].to_numpy().tolist()\n",
    "node_embeddings_df.drop(emb_feature_names, axis=1, inplace=True)"
   ]
  },
  {
   "cell_type": "code",
   "execution_count": 27,
   "metadata": {},
   "outputs": [
    {
     "data": {
      "text/html": [
       "<div>\n",
       "<style scoped>\n",
       "    .dataframe tbody tr th:only-of-type {\n",
       "        vertical-align: middle;\n",
       "    }\n",
       "\n",
       "    .dataframe tbody tr th {\n",
       "        vertical-align: top;\n",
       "    }\n",
       "\n",
       "    .dataframe thead th {\n",
       "        text-align: right;\n",
       "    }\n",
       "</style>\n",
       "<table border=\"1\" class=\"dataframe\">\n",
       "  <thead>\n",
       "    <tr style=\"text-align: right;\">\n",
       "      <th></th>\n",
       "      <th>id</th>\n",
       "      <th>embedding</th>\n",
       "    </tr>\n",
       "    <tr>\n",
       "      <th>id</th>\n",
       "      <th></th>\n",
       "      <th></th>\n",
       "    </tr>\n",
       "  </thead>\n",
       "  <tbody>\n",
       "    <tr>\n",
       "      <th>90edf3b3</th>\n",
       "      <td>90edf3b3</td>\n",
       "      <td>[0.8844377994537354, 0.17142486572265625, -0.5...</td>\n",
       "    </tr>\n",
       "    <tr>\n",
       "      <th>f3e394b3</th>\n",
       "      <td>f3e394b3</td>\n",
       "      <td>[0.6313390731811523, -0.5874557495117188, 0.08...</td>\n",
       "    </tr>\n",
       "    <tr>\n",
       "      <th>f4f7c3ff</th>\n",
       "      <td>f4f7c3ff</td>\n",
       "      <td>[0.5410051345825195, -0.07169866561889648, 0.2...</td>\n",
       "    </tr>\n",
       "    <tr>\n",
       "      <th>ba504e94</th>\n",
       "      <td>ba504e94</td>\n",
       "      <td>[0.6342678070068359, -0.10899639129638672, 0.4...</td>\n",
       "    </tr>\n",
       "    <tr>\n",
       "      <th>ff3b05c4</th>\n",
       "      <td>ff3b05c4</td>\n",
       "      <td>[0.9988889694213867, 0.8284969329833984, 0.833...</td>\n",
       "    </tr>\n",
       "  </tbody>\n",
       "</table>\n",
       "</div>"
      ],
      "text/plain": [
       "                id                                          embedding\n",
       "id                                                                   \n",
       "90edf3b3  90edf3b3  [0.8844377994537354, 0.17142486572265625, -0.5...\n",
       "f3e394b3  f3e394b3  [0.6313390731811523, -0.5874557495117188, 0.08...\n",
       "f4f7c3ff  f4f7c3ff  [0.5410051345825195, -0.07169866561889648, 0.2...\n",
       "ba504e94  ba504e94  [0.6342678070068359, -0.10899639129638672, 0.4...\n",
       "ff3b05c4  ff3b05c4  [0.9988889694213867, 0.8284969329833984, 0.833..."
      ]
     },
     "execution_count": 27,
     "metadata": {},
     "output_type": "execute_result"
    }
   ],
   "source": [
    "node_embeddings_df.head()"
   ]
  },
  {
   "cell_type": "markdown",
   "metadata": {},
   "source": [
    "## Create embeddings feature group"
   ]
  },
  {
   "cell_type": "code",
   "execution_count": 28,
   "metadata": {},
   "outputs": [],
   "source": [
    "from hsfs import engine\n",
    "features = engine.get_instance().parse_schema_feature_group(node_embeddings_df)\n",
    "for f in features:\n",
    "    if f.type == \"array<double>\":\n",
    "        f.online_type = \"VARBINARY(200)\""
   ]
  },
  {
   "cell_type": "code",
   "execution_count": 29,
   "metadata": {},
   "outputs": [
    {
     "name": "stdout",
     "output_type": "stream",
     "text": [
      "Launching offline feature group backfill job...\n",
      "Backfill Job started successfully, you can follow the progress at https://hopsworks.glassfish.service.consul:8182/p/119/jobs/named/node_embeddings_fg_1_offline_fg_backfill/executions\n"
     ]
    },
    {
     "data": {
      "text/plain": [
       "<hsfs.core.job.Job at 0x7fc186cfb5b0>"
      ]
     },
     "execution_count": 29,
     "metadata": {},
     "output_type": "execute_result"
    }
   ],
   "source": [
    "node_embeddings_fg = fs.create_feature_group(name=\"node_embeddings_fg\",\n",
    "                                       version=1,\n",
    "                                       primary_key=[\"id\"],\n",
    "                                       description=\"node embeddings from transactions\",\n",
    "                                       time_travel_format=\"HUDI\",     \n",
    "                                       online_enabled=True,                                                \n",
    "                                       statistics_config={\"enabled\": False, \"histograms\": False, \"correlations\": False, \"exact_uniqueness\": False},\n",
    "                                       features=features)\n",
    "\n",
    "node_embeddings_fg.save(node_embeddings_df)"
   ]
  },
  {
   "cell_type": "markdown",
   "metadata": {},
   "source": [
    "## Feature group provenance\n",
    "![Feature group provenance](./images/provenance_fg.png)"
   ]
  },
  {
   "cell_type": "code",
   "execution_count": null,
   "metadata": {},
   "outputs": [],
   "source": []
  }
 ],
 "metadata": {
  "kernelspec": {
   "display_name": "Python",
   "language": "python",
   "name": "python3"
  },
  "language_info": {
   "codemirror_mode": {
    "name": "ipython",
    "version": 3
   },
   "file_extension": ".py",
   "mimetype": "text/x-python",
   "name": "python",
   "nbconvert_exporter": "python",
   "pygments_lexer": "ipython3",
   "version": "3.8.11"
  }
 },
 "nbformat": 4,
 "nbformat_minor": 4
}