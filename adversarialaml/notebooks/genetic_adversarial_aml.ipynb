{
 "cells": [
  {
   "cell_type": "markdown",
   "metadata": {},
   "source": [
    "# In this notebook we will perform hyperparameter tuning and training of adversarial anomaly detection model. \n",
    "#### For more details about this model refer to https://arxiv.org/pdf/1905.11034.pdf."
   ]
  },
  {
   "cell_type": "code",
   "execution_count": 1,
   "metadata": {},
   "outputs": [
    {
     "name": "stdout",
     "output_type": "stream",
     "text": [
      "Starting Spark application\n"
     ]
    },
    {
     "data": {
      "text/html": [
       "<table>\n",
       "<tr><th>ID</th><th>YARN Application ID</th><th>Kind</th><th>State</th><th>Spark UI</th><th>Driver log</th></tr><tr><td>65</td><td>application_1612947411090_0010</td><td>pyspark</td><td>idle</td><td><a target=\"_blank\" href=\"http://resourcemanager.service.consul:8088/proxy/application_1612947411090_0010/\">Link</a></td><td><a target=\"_blank\" href=\"http://amlsim-worker-5.internal.cloudapp.net:8042/node/containerlogs/container_e08_1612947411090_0010_01_000001/amlsim__meb10179\">Link</a></td></tr></table>"
      ],
      "text/plain": [
       "<IPython.core.display.HTML object>"
      ]
     },
     "metadata": {},
     "output_type": "display_data"
    },
    {
     "name": "stdout",
     "output_type": "stream",
     "text": [
      "SparkSession available as 'spark'.\n",
      "<pyspark.sql.session.SparkSession object at 0x7f7d3c0539d0>"
     ]
    }
   ],
   "source": [
    "spark"
   ]
  },
  {
   "cell_type": "markdown",
   "metadata": {},
   "source": [
    "## Connect to hsfs and retrieve datasets for training and evaluation "
   ]
  },
  {
   "cell_type": "code",
   "execution_count": 2,
   "metadata": {},
   "outputs": [
    {
     "name": "stdout",
     "output_type": "stream",
     "text": [
      "Connected. Call `.close()` to terminate connection gracefully."
     ]
    }
   ],
   "source": [
    "import hsfs\n",
    "# Create a connection\n",
    "connection = hsfs.connection()\n",
    "# Get the feature store handle for the project's feature store\n",
    "fs = connection.get_feature_store()\n",
    "\n",
    "ben_td = fs.get_training_dataset(\"ben_td\", 1)\n",
    "eval_td = fs.get_training_dataset(\"test_td\", 1)"
   ]
  },
  {
   "cell_type": "code",
   "execution_count": null,
   "metadata": {},
   "outputs": [],
   "source": []
  },
  {
   "cell_type": "code",
   "execution_count": 3,
   "metadata": {},
   "outputs": [
    {
     "name": "stdout",
     "output_type": "stream",
     "text": [
      "58539"
     ]
    }
   ],
   "source": [
    "ben_td.read().count()"
   ]
  },
  {
   "cell_type": "code",
   "execution_count": null,
   "metadata": {},
   "outputs": [],
   "source": []
  },
  {
   "cell_type": "markdown",
   "metadata": {},
   "source": [
    "### Define hopsworks experiments wrapper function and put all the training logic there. "
   ]
  },
  {
   "cell_type": "code",
   "execution_count": 4,
   "metadata": {},
   "outputs": [],
   "source": [
    "def experiment_wrapper(\n",
    "    a,\n",
    "    b,\n",
    "    c,\n",
    "    d, \n",
    "    e,\n",
    "    f,\n",
    "\n",
    "    g,\n",
    "    h,\n",
    "    i,\n",
    "    j,\n",
    "    k, \n",
    "    l,\n",
    "\n",
    "    m,\n",
    "    n,\n",
    "    o,\n",
    "    p,\n",
    "    q, \n",
    "    r,\n",
    "    s,\n",
    "    t,\n",
    "    u,\n",
    "    v):\n",
    "\n",
    "    latent_dim = a\n",
    "    discriminator_n_layers = b\n",
    "    discriminator_batch_norm = c\n",
    "    discriminator_dropout_rate = d\n",
    "    discriminator_learning_rate = e\n",
    "    discriminator_extra_steps = f\n",
    "\n",
    "    generator_start_n_units = g\n",
    "    generator_n_layers = h\n",
    "    generator_activation_fn = i\n",
    "    generator_batch_norm = j\n",
    "    generator_dropout_rate = k \n",
    "    generator_learning_rate = l\n",
    "\n",
    "    encoder_start_n_units = m \n",
    "    encoder_n_layers = n\n",
    "    encoder_activation_fn = o\n",
    "    encoder_batch_norm = p\n",
    "    encoder_dropout_rate = q \n",
    "    encoder_learning_rate = r\n",
    "    discriminator_activation_fn = s\n",
    "    \n",
    "    discriminator_middle_layer_activation_fn = t\n",
    "    generator_middle_layer_activation_fn = u\n",
    "    encoder_middle_layer_activation_fn = v\n",
    "    \n",
    "    ##########\n",
    "    int_to_latent_dim= {1:8, 2:16, 3:32,3:64,4:128}\n",
    "    int_to_start_n_units={1:32, 2:64, 3:128}\n",
    "    \n",
    "    int_dropout_rate={\n",
    "        1: 0.1,\n",
    "        2: 0.15,\n",
    "        3: 0.2,\n",
    "        4: 0.25,\n",
    "        5: 0.3,\n",
    "        6: 0.35,\n",
    "        7: 0.4,\n",
    "        8: 0.45,\n",
    "        9: 0.5,\n",
    "        10: 0.55,\n",
    "        11: 0.6 \n",
    "    }\n",
    "    \n",
    "    int_to_learning_rate={\n",
    "        1: 0.00001,\n",
    "        2: 0.001,\n",
    "        3: 0.0015,\n",
    "        4: 0.002,\n",
    "        5: 0.0025,\n",
    "        6: 0.003,\n",
    "        7: 0.0035,\n",
    "        8: 0.004,\n",
    "        9: 0.0045,\n",
    "        10: 0.005,\n",
    "        11: 0.0055,\n",
    "        12: 0.006,\n",
    "        13: 0.0065,\n",
    "        14: 0.007,\n",
    "        15: 0.0075,\n",
    "        16: 0.008,\n",
    "        17: 0.0085,\n",
    "        18: 0.009,\n",
    "        19: 0.0095,\n",
    "        20: 0.01, \n",
    "        21: 0.02, \n",
    "        22: 0.03, \n",
    "        23: 0.04 \n",
    "    }  \n",
    " \n",
    "    int_to_act_fn = {\n",
    "        1: 'linear',        \n",
    "        2: 'relu',\n",
    "        3: 'leaky_relu',\n",
    "        4: 'selu',\n",
    "        5: 'tanh'\n",
    "    }\n",
    "\n",
    "    latent_dim = int_to_latent_dim[latent_dim]\n",
    "    \n",
    "    discriminator_dropout_rate = int_dropout_rate[discriminator_dropout_rate]\n",
    "    discriminator_learning_rate = int_to_learning_rate[discriminator_learning_rate]\n",
    "    \n",
    "    generator_start_n_units = int_to_start_n_units[generator_start_n_units]\n",
    "    generator_dropout_rate = int_dropout_rate[generator_dropout_rate]\n",
    "    generator_learning_rate = int_to_learning_rate[generator_learning_rate]\n",
    "\n",
    "    encoder_start_n_units = int_to_start_n_units[encoder_start_n_units]    \n",
    "    encoder_dropout_rate = int_dropout_rate[encoder_dropout_rate]\n",
    "    encoder_learning_rate = int_to_learning_rate[encoder_learning_rate]\n",
    "    \n",
    "    ##########\n",
    "    import tensorflow as tf\n",
    "    from adversarialaml.gan_enc_ano import GanAnomalyDetector,  GanAnomalyMonitor \n",
    "    from hops import tensorboard\n",
    "\n",
    "    # Set the number of epochs for trainining.\n",
    "    EPOCHS = 20\n",
    "    BATCH_SIZE=512\n",
    "    \n",
    "    TOTAL_SAMPLES = 58539\n",
    "    STEPS_PER_EPOCH=TOTAL_SAMPLES//BATCH_SIZE\n",
    "\n",
    "    train_input = ben_td.tf_data(target_name='target', is_training=True)\n",
    "    train_input_processed = train_input.tf_record_dataset(process=True, batch_size=BATCH_SIZE, num_epochs=EPOCHS)\n",
    "\n",
    "    eval_input = eval_td.tf_data(target_name='target', is_training=True)\n",
    "    eval_input_processed = eval_input.tf_record_dataset(process=True, batch_size=BATCH_SIZE, num_epochs=EPOCHS)\n",
    "    \n",
    "    discriminator_activation_fn=int_to_act_fn[discriminator_activation_fn]\n",
    "    discriminator_middle_layer_activation_fn = int_to_act_fn[discriminator_middle_layer_activation_fn]\n",
    "    \n",
    "    if discriminator_dropout_rate > 0.0:\n",
    "        discriminator_batch_dropout = True\n",
    "    else:\n",
    "        discriminator_batch_dropout = False\n",
    "    \n",
    "\n",
    "    if discriminator_dropout_rate > 0.0:\n",
    "        generator_batch_dropout=True\n",
    "    else:\n",
    "        generator_batch_dropout=False\n",
    "\n",
    "    if encoder_dropout_rate > 0.0:\n",
    "        encoder_batch_dropout=True\n",
    "    else:\n",
    "        encoder_batch_dropout=False   \n",
    "\n",
    "\n",
    "    if discriminator_batch_norm==0:\n",
    "        discriminator_batch_norm = False\n",
    "    else:\n",
    "        discriminator_batch_norm = True\n",
    "        \n",
    "    generator_activation_fn=int_to_act_fn[generator_activation_fn]\n",
    "    generator_middle_layer_activation_fn = int_to_act_fn[generator_middle_layer_activation_fn]\n",
    "        \n",
    "    if generator_batch_norm==0:\n",
    "        generator_batch_norm = False\n",
    "    else:\n",
    "        generator_batch_norm = True\n",
    "        \n",
    "    encoder_activation_fn=int_to_act_fn[encoder_activation_fn]\n",
    "    encoder_middle_layer_activation_fn = int_to_act_fn[encoder_middle_layer_activation_fn]\n",
    "        \n",
    "    if encoder_batch_norm==0:\n",
    "        encoder_batch_norm=False\n",
    "    else:\n",
    "        encoder_batch_norm=True        \n",
    "        \n",
    "    discriminator_double_neurons=False\n",
    "    discriminator_bottleneck_neurons=True\n",
    "    generator_double_neurons=True\n",
    "    generator_bottleneck_neurons=False\n",
    "        \n",
    "    # Instantiate the GanAnomalyDetector model.\n",
    "    gan_anomaly_detector = GanAnomalyDetector(\n",
    "                input_dim=365,\n",
    "                latent_dim=latent_dim,\n",
    "\n",
    "                discriminator_start_n_units=365,\n",
    "                discriminator_n_layers=discriminator_n_layers,\n",
    "                discriminator_activation_fn=discriminator_activation_fn,\n",
    "                discriminator_middle_layer_activation_fn=discriminator_middle_layer_activation_fn,\n",
    "                discriminator_double_neurons=discriminator_double_neurons,\n",
    "                discriminator_bottleneck_neurons=discriminator_bottleneck_neurons,\n",
    "                discriminator_batch_norm=discriminator_batch_norm,\n",
    "                discriminator_batch_dropout=discriminator_batch_dropout,\n",
    "                discriminator_dropout_rate=discriminator_dropout_rate,\n",
    "                discriminator_learning_rate=discriminator_learning_rate,\n",
    "                discriminator_extra_steps=discriminator_extra_steps,\n",
    "\n",
    "                generator_start_n_units=generator_start_n_units,\n",
    "                generator_n_layers=generator_n_layers,\n",
    "                generator_activation_fn=generator_activation_fn,\n",
    "                generator_middle_layer_activation_fn=generator_middle_layer_activation_fn,\n",
    "                generator_double_neurons=generator_double_neurons,\n",
    "                generator_bottleneck_neurons=generator_bottleneck_neurons,\n",
    "                generator_batch_norm=generator_batch_norm,\n",
    "                generator_batch_dropout=generator_batch_dropout,\n",
    "                generator_dropout_rate=generator_dropout_rate,\n",
    "                generator_learning_rate=generator_learning_rate,\n",
    "\n",
    "                encoder_start_n_units=encoder_start_n_units,\n",
    "                encoder_n_layers=encoder_n_layers,\n",
    "                encoder_activation_fn=encoder_activation_fn,\n",
    "                encoder_middle_layer_activation_fn=encoder_middle_layer_activation_fn,\n",
    "                encoder_batch_norm=encoder_batch_norm,\n",
    "                encoder_batch_dropout=encoder_batch_dropout,\n",
    "                encoder_dropout_rate=encoder_dropout_rate,\n",
    "                encoder_learning_rate=encoder_learning_rate,\n",
    "\n",
    "    )\n",
    "    \n",
    "    # Compile the WGAN model.\n",
    "    gan_anomaly_detector.compile()\n",
    "\n",
    "    callbacks = [\n",
    "        GanAnomalyMonitor(batch_size=1, latent_dim=latent_dim, input_dim=365),\n",
    "        #tf.keras.callbacks.TensorBoard(log_dir=tensorboard.logdir()),\n",
    "        #tf.keras.callbacks.ModelCheckpoint(filepath=tensorboard.logdir()),\n",
    "    ]\n",
    "    # Start training the model.\n",
    "    history = gan_anomaly_detector.fit(train_input_processed, \n",
    "                                       callbacks=[callbacks], \n",
    "                                       epochs=EPOCHS, \n",
    "                                       steps_per_epoch= STEPS_PER_EPOCH,\n",
    "                                       validation_data=eval_input_processed,\n",
    "                                       validation_steps=1)    \n",
    "    \n",
    "    import numpy as np \n",
    "    metrics={'metric': np.mean(history.history[\"e_loss\"]) + np.mean(history.history[\"g_loss\"])} #np.mean(history.history[\"eval_anomaly_score\"]) - \n",
    "    \n",
    "    return metrics"
   ]
  },
  {
   "cell_type": "markdown",
   "metadata": {},
   "source": [
    "## The searchspace can be instantiated with parameters"
   ]
  },
  {
   "cell_type": "markdown",
   "metadata": {},
   "source": [
    "## Use above experiments wrapper function to conduct hops training experiments."
   ]
  },
  {
   "cell_type": "code",
   "execution_count": 5,
   "metadata": {},
   "outputs": [],
   "source": [
    "from hops import experiment\n",
    "def hyperparam_search():\n",
    "    search_dict = {\n",
    "        'a':[1, 4],\n",
    "        'b':[2, 6],\n",
    "        'c':[0, 1], \n",
    "        'd':[1, 11], \n",
    "        'e':[1, 23],\n",
    "        'f':[1, 4],\n",
    "\n",
    "        'g':[1, 3],\n",
    "        'h':[2, 6],\n",
    "        'i':[2, 5],\n",
    "        'j':[0, 1],\n",
    "        'k':[1, 11], \n",
    "        'l':[1, 23],\n",
    "\n",
    "        'm':[1, 3],\n",
    "        'n':[2, 6],\n",
    "        'o':[2, 5],\n",
    "        'p':[0, 1],\n",
    "        'q':[1, 11], \n",
    "        'r':[1, 23],\n",
    "        's':[1, 4],\n",
    "        't':[1, 4],\n",
    "        'u':[1, 4],\n",
    "        'v':[1, 4]\n",
    "    }\n",
    "    \n",
    "    log_dir, best_params = experiment.differential_evolution(\n",
    "    experiment_wrapper, \n",
    "    search_dict, \n",
    "    name='aml_gan_evo_2', \n",
    "    description='Evolutionary search AML GAN',\n",
    "    local_logdir=True, \n",
    "    population=10,\n",
    "    generations = 10,\n",
    "    direction='min'    \n",
    "    )\n",
    "    return log_dir, best_params"
   ]
  },
  {
   "cell_type": "code",
   "execution_count": null,
   "metadata": {},
   "outputs": [],
   "source": [
    "log_dir, best_params = hyperparam_search()"
   ]
  },
  {
   "cell_type": "code",
   "execution_count": null,
   "metadata": {},
   "outputs": [],
   "source": []
  }
 ],
 "metadata": {
  "kernelspec": {
   "display_name": "PySpark",
   "language": "python",
   "name": "pysparkkernel"
  },
  "language_info": {
   "codemirror_mode": {
    "name": "python",
    "version": 3
   },
   "mimetype": "text/x-python",
   "name": "pyspark",
   "pygments_lexer": "python3"
  }
 },
 "nbformat": 4,
 "nbformat_minor": 4
}