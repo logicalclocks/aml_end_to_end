{
 "cells": [
  {
   "cell_type": "markdown",
   "metadata": {},
   "source": [
    "# <span style=\"font-width:bold; font-size: 3rem; color:#1EB182;\"><img src=\"images/icon102.png\" width=\"38px\"></img> **Hopsworks Feature Store** </span><span style=\"font-width:bold; font-size: 3rem; color:#333;\">- Part 01 b: Load, Engineer & Connect</span>\n",
    "\n",
    "\n",
    "# Graph feature engineering using RAPIDS' cuGraph¶\n",
    "In this notebook we are going performom graph feature engineering using cuGraph library and write to feature stores as feature groups. \n",
    "\n",
    "## **🗒️ This notebook is divided in 3 sections:** \n",
    "1. Loading the data and do feature engineeing,\n",
    "2. Connect to the Hopsworks feature store,\n",
    "3. Create feature groups and upload them to the feature store.\n",
    "\n",
    "![tutorial-flow](images/01_featuregroups.png)\n",
    "\n",
    "First of all we will load the data and do some feature engineering on it."
   ]
  },
  {
   "cell_type": "code",
   "execution_count": 1,
   "metadata": {},
   "outputs": [
    {
     "name": "stdout",
     "output_type": "stream",
     "text": [
      "2022-05-29 11:50:41,079 INFO: Note: detected 256 virtual cores but NumExpr set to maximum of 64, check \"NUMEXPR_MAX_THREADS\" environment variable.\n",
      "2022-05-29 11:50:41,080 INFO: Note: NumExpr detected 256 cores but \"NUMEXPR_MAX_THREADS\" not set, so enforcing safe limit of 8.\n",
      "2022-05-29 11:50:41,081 INFO: NumExpr defaulting to 8 threads.\n"
     ]
    }
   ],
   "source": [
    "import cuxfilter\n",
    "import cudf\n",
    "import cugraph\n",
    "import numpy as np, pandas as pd"
   ]
  },
  {
   "cell_type": "code",
   "execution_count": null,
   "metadata": {},
   "outputs": [],
   "source": [
    "# get feature store handle\n",
    "import hsfs\n",
    "# Create a connection\n",
    "connection = hsfs.connection()\n",
    "# Get the feature store handle for the project's feature store\n",
    "fs = connection.get_feature_store()\n",
    "\n",
    "# Get nodes and edges feature groups\n",
    "transactions_fg = fs.get_feature_group(\"transaction_labels_fg\", 1)\n",
    "party_fg = fs.get_feature_group(\"party_fg\", 1)\n",
    "\n",
    "# Get fg as pandas dataframe\n",
    "node_pdf = party_fg.read()\n",
    "edge_pdf = transactions_fg.read()\n",
    "\n",
    "edge_pdf.columns = [\"tran_timestamp\",\"source\", \"target\", \"tran_id\", \"tx_type\", \"base_amt\"]\n",
    "node_pdf.columns = [\"id\", \"type\"]\n"
   ]
  },
  {
   "cell_type": "raw",
   "metadata": {},
   "source": [
    "# Import necessary libraries for feature engineering\n",
    "# common libaries for hashing and date time conversions\n",
    "import hashlib\n",
    "from datetime import datetime\n",
    "\n",
    "# pandas for feature engineering \n",
    "import pandas as pd\n",
    "import numpy as np\n",
    "\n",
    "# Hops hdfs utility library for reading and writing files from HopsFs\n",
    "from hops import hdfs\n",
    "\n",
    "edge_pdf = pd.read_csv(\"hdfs:///Projects/rapids_demo/Resources/transactions.csv\", parse_dates = ['tran_timestamp'])    \n",
    "node_pdf = pd.read_csv(\"hdfs:///Projects/rapids_demo/Resources/party.csv\")    \n",
    "\n",
    "edge_pdf.columns = [\"tran_id\", \"tx_type\", \"base_amt\", \"tran_timestamp\", \"source\", \"target\"]\n",
    "node_pdf.columns = [\"id\", \"type\"]"
   ]
  },
  {
   "cell_type": "markdown",
   "metadata": {},
   "source": [
    "## Create CuGraph Graph"
   ]
  },
  {
   "cell_type": "code",
   "execution_count": 3,
   "metadata": {},
   "outputs": [],
   "source": [
    "# CuGraph works with only integer node IDs\n",
    "unique_ids = set()\n",
    "for [src,dst] in edge_pdf[[\"source\", \"target\"]].values:\n",
    "  unique_ids.add(src)\n",
    "  unique_ids.add(dst)\n",
    "\n",
    "id_dict = {}\n",
    "for i, idn in enumerate(unique_ids):\n",
    "    id_dict[idn]=i# create 2 columns that contain the integer IDs for src and dst\n",
    "edge_pdf['src_int'] = edge_pdf['source'].apply(lambda x : id_dict[x])\n",
    "edge_pdf['dst_int'] = edge_pdf['target'].apply(lambda x : id_dict[x])"
   ]
  },
  {
   "cell_type": "code",
   "execution_count": 4,
   "metadata": {},
   "outputs": [],
   "source": [
    "node_pdf['id_int'] = node_pdf['id'].apply(lambda x : id_dict[x])"
   ]
  },
  {
   "cell_type": "code",
   "execution_count": 5,
   "metadata": {},
   "outputs": [
    {
     "name": "stderr",
     "output_type": "stream",
     "text": [
      "/tmp/ipykernel_1637/1614847479.py:5: DeprecationWarning: `np.float` is a deprecated alias for the builtin `float`. To silence this warning, use `float` by itself. Doing this will not modify any behavior and is safe. If you specifically wanted the numpy scalar type, use `np.float64` here.\n",
      "Deprecated in NumPy 1.20; for more details and guidance: https://numpy.org/devdocs/release/1.20.0-notes.html#deprecations\n",
      "  cuda_g['base_amt'] = cuda_g['base_amt'].astype(np.float)\n",
      "/srv/hops/anaconda/envs/theenv/lib/python3.8/site-packages/cudf/core/indexed_frame.py:2271: FutureWarning: append is deprecated and will be removed in a future version. Use concat instead.\n",
      "  warnings.warn(\n"
     ]
    }
   ],
   "source": [
    "# cugraph needs node IDs to be int32 and weights to be float\n",
    "cuda_g = cudf.DataFrame.from_pandas(edge_pdf)\n",
    "cuda_g['src_int'] = cuda_g['src_int'].astype(np.int32)\n",
    "cuda_g['dst_int'] = cuda_g['dst_int'].astype(np.int32)\n",
    "cuda_g['base_amt'] = cuda_g['base_amt'].astype(np.float)\n",
    "\n",
    "G = cugraph.Graph()\n",
    "G.from_cudf_edgelist(cuda_g, source='src_int', destination='dst_int')"
   ]
  },
  {
   "cell_type": "markdown",
   "metadata": {},
   "source": [
    "## Page rank"
   ]
  },
  {
   "cell_type": "code",
   "execution_count": 6,
   "metadata": {},
   "outputs": [],
   "source": [
    "pgr = cugraph.pagerank(G)"
   ]
  },
  {
   "cell_type": "markdown",
   "metadata": {},
   "source": [
    "## Weakly connected components"
   ]
  },
  {
   "cell_type": "code",
   "execution_count": 7,
   "metadata": {},
   "outputs": [],
   "source": [
    "wcc = cugraph.weakly_connected_components(G)"
   ]
  },
  {
   "cell_type": "markdown",
   "metadata": {},
   "source": [
    "## Betweenness centrality"
   ]
  },
  {
   "cell_type": "code",
   "execution_count": 8,
   "metadata": {},
   "outputs": [],
   "source": [
    "bc = cugraph.betweenness_centrality(G)"
   ]
  },
  {
   "cell_type": "markdown",
   "metadata": {},
   "source": [
    "## Katz centrality"
   ]
  },
  {
   "cell_type": "code",
   "execution_count": 9,
   "metadata": {},
   "outputs": [],
   "source": [
    "kzc = cugraph.katz_centrality(G)"
   ]
  },
  {
   "cell_type": "markdown",
   "metadata": {},
   "source": [
    "## Construct graph algorithm feature groups "
   ]
  },
  {
   "cell_type": "markdown",
   "metadata": {},
   "source": [
    "### Convert to pandas dataframes  "
   ]
  },
  {
   "cell_type": "code",
   "execution_count": 10,
   "metadata": {},
   "outputs": [
    {
     "name": "stdout",
     "output_type": "stream",
     "text": [
      "2022-05-29 11:51:14,960 INFO: init\n"
     ]
    }
   ],
   "source": [
    "pgr = pgr.to_pandas()\n",
    "wcc = wcc.to_pandas()\n",
    "bc = bc.to_pandas() \n",
    "kzc = kzc.to_pandas()"
   ]
  },
  {
   "cell_type": "code",
   "execution_count": 11,
   "metadata": {},
   "outputs": [],
   "source": [
    "pgr.columns = [\"pagerank\", \"id_int\"]\n",
    "wcc.columns = [\"wcc_labels\", \"id_int\"]\n",
    "bc.columns = [\"betweenness_centralit\", \"id_int\"]\n",
    "kzc.columns = [\"katz_centrality\", \"id_int\"]"
   ]
  },
  {
   "cell_type": "markdown",
   "metadata": {},
   "source": [
    "### Merge all graph feature dataframes as one dataframe. "
   ]
  },
  {
   "cell_type": "code",
   "execution_count": 12,
   "metadata": {},
   "outputs": [],
   "source": [
    "cugraph_alg_fg = pgr.join(node_pdf.set_index('id_int'), on='id_int', how='inner')\n",
    "cugraph_alg_fg = wcc.join(cugraph_alg_fg.set_index('id_int'), on='id_int', how='inner')\n",
    "cugraph_alg_fg = bc.join(cugraph_alg_fg.set_index('id_int'), on='id_int', how='inner')\n",
    "cugraph_alg_fg = kzc.join(cugraph_alg_fg.set_index('id_int'), on='id_int', how='inner')"
   ]
  },
  {
   "cell_type": "code",
   "execution_count": 13,
   "metadata": {},
   "outputs": [
    {
     "data": {
      "text/html": [
       "<div>\n",
       "<style scoped>\n",
       "    .dataframe tbody tr th:only-of-type {\n",
       "        vertical-align: middle;\n",
       "    }\n",
       "\n",
       "    .dataframe tbody tr th {\n",
       "        vertical-align: top;\n",
       "    }\n",
       "\n",
       "    .dataframe thead th {\n",
       "        text-align: right;\n",
       "    }\n",
       "</style>\n",
       "<table border=\"1\" class=\"dataframe\">\n",
       "  <thead>\n",
       "    <tr style=\"text-align: right;\">\n",
       "      <th></th>\n",
       "      <th>katz_centrality</th>\n",
       "      <th>id_int</th>\n",
       "      <th>betweenness_centralit</th>\n",
       "      <th>wcc_labels</th>\n",
       "      <th>pagerank</th>\n",
       "      <th>id</th>\n",
       "      <th>type</th>\n",
       "    </tr>\n",
       "  </thead>\n",
       "  <tbody>\n",
       "    <tr>\n",
       "      <th>0</th>\n",
       "      <td>0.0</td>\n",
       "      <td>3441</td>\n",
       "      <td>0.001183</td>\n",
       "      <td>5930</td>\n",
       "      <td>0.000178</td>\n",
       "      <td>66e86b1e</td>\n",
       "      <td>Individual</td>\n",
       "    </tr>\n",
       "    <tr>\n",
       "      <th>1</th>\n",
       "      <td>0.0</td>\n",
       "      <td>3471</td>\n",
       "      <td>0.000398</td>\n",
       "      <td>5930</td>\n",
       "      <td>0.000117</td>\n",
       "      <td>0d64dd55</td>\n",
       "      <td>Individual</td>\n",
       "    </tr>\n",
       "    <tr>\n",
       "      <th>2</th>\n",
       "      <td>0.0</td>\n",
       "      <td>3489</td>\n",
       "      <td>0.001145</td>\n",
       "      <td>5930</td>\n",
       "      <td>0.000226</td>\n",
       "      <td>fcbdc6bb</td>\n",
       "      <td>Individual</td>\n",
       "    </tr>\n",
       "    <tr>\n",
       "      <th>3</th>\n",
       "      <td>0.0</td>\n",
       "      <td>3761</td>\n",
       "      <td>0.003356</td>\n",
       "      <td>5930</td>\n",
       "      <td>0.000284</td>\n",
       "      <td>c628b45c</td>\n",
       "      <td>Individual</td>\n",
       "    </tr>\n",
       "    <tr>\n",
       "      <th>4</th>\n",
       "      <td>0.0</td>\n",
       "      <td>3858</td>\n",
       "      <td>0.001662</td>\n",
       "      <td>5930</td>\n",
       "      <td>0.000185</td>\n",
       "      <td>7ab7879c</td>\n",
       "      <td>Individual</td>\n",
       "    </tr>\n",
       "  </tbody>\n",
       "</table>\n",
       "</div>"
      ],
      "text/plain": [
       "   katz_centrality  id_int  betweenness_centralit  wcc_labels  pagerank  \\\n",
       "0              0.0    3441               0.001183        5930  0.000178   \n",
       "1              0.0    3471               0.000398        5930  0.000117   \n",
       "2              0.0    3489               0.001145        5930  0.000226   \n",
       "3              0.0    3761               0.003356        5930  0.000284   \n",
       "4              0.0    3858               0.001662        5930  0.000185   \n",
       "\n",
       "         id        type  \n",
       "0  66e86b1e  Individual  \n",
       "1  0d64dd55  Individual  \n",
       "2  fcbdc6bb  Individual  \n",
       "3  c628b45c  Individual  \n",
       "4  7ab7879c  Individual  "
      ]
     },
     "execution_count": 13,
     "metadata": {},
     "output_type": "execute_result"
    }
   ],
   "source": [
    "cugraph_alg_fg.head()"
   ]
  },
  {
   "cell_type": "code",
   "execution_count": 14,
   "metadata": {},
   "outputs": [],
   "source": [
    "cugraph_df = cugraph_alg_fg[[\"katz_centrality\",\"betweenness_centralit\", \"wcc_labels\", \"pagerank\", \"id\"]]"
   ]
  },
  {
   "cell_type": "code",
   "execution_count": 15,
   "metadata": {},
   "outputs": [
    {
     "data": {
      "text/html": [
       "<div>\n",
       "<style scoped>\n",
       "    .dataframe tbody tr th:only-of-type {\n",
       "        vertical-align: middle;\n",
       "    }\n",
       "\n",
       "    .dataframe tbody tr th {\n",
       "        vertical-align: top;\n",
       "    }\n",
       "\n",
       "    .dataframe thead th {\n",
       "        text-align: right;\n",
       "    }\n",
       "</style>\n",
       "<table border=\"1\" class=\"dataframe\">\n",
       "  <thead>\n",
       "    <tr style=\"text-align: right;\">\n",
       "      <th></th>\n",
       "      <th>katz_centrality</th>\n",
       "      <th>betweenness_centralit</th>\n",
       "      <th>wcc_labels</th>\n",
       "      <th>pagerank</th>\n",
       "      <th>id</th>\n",
       "      <th>type</th>\n",
       "    </tr>\n",
       "  </thead>\n",
       "  <tbody>\n",
       "    <tr>\n",
       "      <th>0</th>\n",
       "      <td>0.0</td>\n",
       "      <td>0.001183</td>\n",
       "      <td>5930</td>\n",
       "      <td>0.000178</td>\n",
       "      <td>66e86b1e</td>\n",
       "      <td>Individual</td>\n",
       "    </tr>\n",
       "    <tr>\n",
       "      <th>1</th>\n",
       "      <td>0.0</td>\n",
       "      <td>0.000398</td>\n",
       "      <td>5930</td>\n",
       "      <td>0.000117</td>\n",
       "      <td>0d64dd55</td>\n",
       "      <td>Individual</td>\n",
       "    </tr>\n",
       "    <tr>\n",
       "      <th>2</th>\n",
       "      <td>0.0</td>\n",
       "      <td>0.001145</td>\n",
       "      <td>5930</td>\n",
       "      <td>0.000226</td>\n",
       "      <td>fcbdc6bb</td>\n",
       "      <td>Individual</td>\n",
       "    </tr>\n",
       "    <tr>\n",
       "      <th>3</th>\n",
       "      <td>0.0</td>\n",
       "      <td>0.003356</td>\n",
       "      <td>5930</td>\n",
       "      <td>0.000284</td>\n",
       "      <td>c628b45c</td>\n",
       "      <td>Individual</td>\n",
       "    </tr>\n",
       "    <tr>\n",
       "      <th>4</th>\n",
       "      <td>0.0</td>\n",
       "      <td>0.001662</td>\n",
       "      <td>5930</td>\n",
       "      <td>0.000185</td>\n",
       "      <td>7ab7879c</td>\n",
       "      <td>Individual</td>\n",
       "    </tr>\n",
       "  </tbody>\n",
       "</table>\n",
       "</div>"
      ],
      "text/plain": [
       "   katz_centrality  betweenness_centralit  wcc_labels  pagerank        id  \\\n",
       "0              0.0               0.001183        5930  0.000178  66e86b1e   \n",
       "1              0.0               0.000398        5930  0.000117  0d64dd55   \n",
       "2              0.0               0.001145        5930  0.000226  fcbdc6bb   \n",
       "3              0.0               0.003356        5930  0.000284  c628b45c   \n",
       "4              0.0               0.001662        5930  0.000185  7ab7879c   \n",
       "\n",
       "         type  \n",
       "0  Individual  \n",
       "1  Individual  \n",
       "2  Individual  \n",
       "3  Individual  \n",
       "4  Individual  "
      ]
     },
     "execution_count": 15,
     "metadata": {},
     "output_type": "execute_result"
    }
   ],
   "source": [
    "cugraph_df.head()"
   ]
  },
  {
   "cell_type": "markdown",
   "metadata": {},
   "source": [
    "## <span style=\"color:#ff5f27;\"> 🪄 Register Feature Groups </span>"
   ]
  },
  {
   "cell_type": "code",
   "execution_count": null,
   "metadata": {},
   "outputs": [],
   "source": [
    "cugraph_fg = fs.create_feature_group(\n",
    "    name = \"cugraph_fg\",\n",
    "    version = 1,\n",
    "    primary_key = [\"id\"],\n",
    "    description = \"cugraph graph  features\",\n",
    "    time_travel_format = \"HUDI\",  \n",
    "    online_enabled = True,\n",
    "    statistics_config = {\"enabled\": True, \"histograms\": True, \"correlations\": True, \"exact_uniqueness\": False},\n",
    "    expectation_suite=expectation_suite\n",
    ")   \n",
    "cugraph_fg.save(cugraph_df)"
   ]
  }
 ],
 "metadata": {
  "kernelspec": {
   "display_name": "Python",
   "language": "python",
   "name": "python3"
  },
  "language_info": {
   "codemirror_mode": {
    "name": "ipython",
    "version": 3
   },
   "file_extension": ".py",
   "mimetype": "text/x-python",
   "name": "python",
   "nbconvert_exporter": "python",
   "pygments_lexer": "ipython3",
   "version": "3.8.11"
  }
 },
 "nbformat": 4,
 "nbformat_minor": 4
}