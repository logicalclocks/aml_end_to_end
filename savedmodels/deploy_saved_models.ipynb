{
 "cells": [
  {
   "cell_type": "code",
   "execution_count": null,
   "metadata": {},
   "outputs": [],
   "source": [
    "from hops import hdfs\n",
    "from hops import model as hops_model"
   ]
  },
  {
   "cell_type": "code",
   "execution_count": null,
   "metadata": {},
   "outputs": [],
   "source": [
    "hdfs.copy_to_local(\"hdfs:///Projects/{}/Resources/NodeEmbeddings\".format(hdfs.project_name()), overwrite=True)\n",
    "hops_model.export('NodeEmbeddings', 'NodeEmbeddings', metrics={'accuracy': 97.3302})"
   ]
  },
  {
   "cell_type": "code",
   "execution_count": null,
   "metadata": {},
   "outputs": [],
   "source": [
    "hdfs.copy_to_local(\"hdfs:///Projects/{}/Resources/ganAml\".format(hdfs.project_name()), overwrite=True)\n",
    "hops_model.export('ganAml', 'ganAml', metrics={'loss': 0.09847})"
   ]
  }
 ],
 "metadata": {
  "kernelspec": {
   "display_name": "Python",
   "language": "python",
   "name": "python3"
  },
  "language_info": {
   "codemirror_mode": {
    "name": "ipython",
    "version": 3
   },
   "file_extension": ".py",
   "mimetype": "text/x-python",
   "name": "python",
   "nbconvert_exporter": "python",
   "pygments_lexer": "ipython3",
   "version": "3.7.9"
  }
 },
 "nbformat": 4,
 "nbformat_minor": 4
}
