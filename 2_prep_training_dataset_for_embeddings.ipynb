{
 "cells": [
  {
   "cell_type": "markdown",
   "metadata": {},
   "source": [
    "### Create training dataset\n",
    "In this notebook We are going to create training datasets and register to Hopsworks Feature Store. This training dataset will be later used to train for graph emmbedings model.\n",
    "![Training Dataset](./images/create_training_dataset.png)"
   ]
  },
  {
   "cell_type": "code",
   "execution_count": null,
   "metadata": {},
   "outputs": [],
   "source": [
    "spark"
   ]
  },
  {
   "cell_type": "code",
   "execution_count": 2,
   "metadata": {},
   "outputs": [],
   "source": [
    "import hashlib\n",
    "from datetime import datetime\n",
    "from pyspark.sql import functions as F\n",
    "from pyspark.sql.types import FloatType\n",
    "import hsfs"
   ]
  },
  {
   "cell_type": "markdown",
   "metadata": {},
   "source": [
    "### Instantiate a connection and get the project feature store handler "
   ]
  },
  {
   "cell_type": "code",
   "execution_count": 3,
   "metadata": {},
   "outputs": [
    {
     "name": "stdout",
     "output_type": "stream",
     "text": [
      "Connected. Call `.close()` to terminate connection gracefully."
     ]
    }
   ],
   "source": [
    "# Create a connection\n",
    "connection = hsfs.connection()\n",
    "# Get the feature store handle for the project's feature store\n",
    "fs = connection.get_feature_store()"
   ]
  },
  {
   "cell_type": "markdown",
   "metadata": {},
   "source": [
    "### Get transactions feature group handle"
   ]
  },
  {
   "cell_type": "code",
   "execution_count": 4,
   "metadata": {},
   "outputs": [
    {
     "name": "stdout",
     "output_type": "stream",
     "text": [
      "+--------------+--------+--------+-------+-------+--------+\n",
      "|tran_timestamp|  source|  target|tran_id|tx_type|base_amt|\n",
      "+--------------+--------+--------+-------+-------+--------+\n",
      "|        Aug-18|35d9e14d|ea20f3ea| 328889|      4|  341.23|\n",
      "|        Aug-18|ecaba057|42e760b1| 328890|      4|  846.74|\n",
      "|        Aug-18|43e1ce2b|d85de509| 328891|      4|  269.45|\n",
      "|        Aug-18|2d76caaa|9dff007b| 328892|      4|  180.32|\n",
      "|        Aug-18|b2efe3c6|92cf8d33| 328893|      4|  507.09|\n",
      "+--------------+--------+--------+-------+-------+--------+\n",
      "only showing top 5 rows"
     ]
    }
   ],
   "source": [
    "transactions_fg = fs.get_feature_group(\"transactions_fg\", 1)\n",
    "transactions_fg.show(5)"
   ]
  },
  {
   "cell_type": "code",
   "execution_count": 5,
   "metadata": {},
   "outputs": [
    {
     "name": "stdout",
     "output_type": "stream",
     "text": [
      "438386"
     ]
    }
   ],
   "source": [
    "transactions_fg.read().count()"
   ]
  },
  {
   "cell_type": "markdown",
   "metadata": {},
   "source": [
    "### Load alert transactions feature group  handle"
   ]
  },
  {
   "cell_type": "code",
   "execution_count": 6,
   "metadata": {},
   "outputs": [
    {
     "name": "stdout",
     "output_type": "stream",
     "text": [
      "+--------------+--------+------+-------+\n",
      "|    alert_type|alert_id|is_sar|tran_id|\n",
      "+--------------+--------+------+-------+\n",
      "|scatter_gather|      32|     1|1000145|\n",
      "|scatter_gather|      18|     1|1002861|\n",
      "|scatter_gather|      34|     1| 100431|\n",
      "|scatter_gather|      18|     1|1006056|\n",
      "|scatter_gather|      32|     1|1006362|\n",
      "+--------------+--------+------+-------+\n",
      "only showing top 5 rows"
     ]
    }
   ],
   "source": [
    "alert_transactions_fg = fs.get_feature_group(\"alert_transactions_fg\", 1)\n",
    "alert_transactions_fg.show(5)"
   ]
  },
  {
   "cell_type": "code",
   "execution_count": 7,
   "metadata": {},
   "outputs": [
    {
     "name": "stdout",
     "output_type": "stream",
     "text": [
      "915"
     ]
    }
   ],
   "source": [
    "alert_transactions_fg.read().count()"
   ]
  },
  {
   "cell_type": "markdown",
   "metadata": {},
   "source": [
    "### Load party feature group  handle"
   ]
  },
  {
   "cell_type": "code",
   "execution_count": 8,
   "metadata": {},
   "outputs": [
    {
     "name": "stdout",
     "output_type": "stream",
     "text": [
      "+--------+----+\n",
      "|      id|type|\n",
      "+--------+----+\n",
      "|0016359b|   0|\n",
      "|0019b8d0|   0|\n",
      "|001dcc27|   1|\n",
      "|00298665|   1|\n",
      "|003cd8f3|   0|\n",
      "|003e2533|   0|\n",
      "|00403fbd|   1|\n",
      "|00498ec2|   1|\n",
      "|0049ee5b|   0|\n",
      "|0054a022|   0|\n",
      "|00575ac9|   0|\n",
      "|005c0c19|   1|\n",
      "|006ac170|   1|\n",
      "|006cc052|   0|\n",
      "|0075d230|   1|\n",
      "|007749eb|   0|\n",
      "|00794932|   1|\n",
      "|007f2674|   0|\n",
      "|007f76dc|   1|\n",
      "|0081b086|   0|\n",
      "+--------+----+\n",
      "only showing top 20 rows"
     ]
    }
   ],
   "source": [
    "party_fg = fs.get_feature_group(\"party_fg\", 1)\n",
    "party_fg.read().show()"
   ]
  },
  {
   "cell_type": "markdown",
   "metadata": {},
   "source": [
    "## Create training datasets\n",
    "To create training datasest we will use hsfs `Query` object. Training dataset's metadata, created from hsfs `Query` object, contains information such as: \n",
    "* which feature groups it was created from; \n",
    "* commit id of these feature froups;\n",
    "* the order of features. \n",
    "\n",
    "This will give us possibility to \n",
    "* track back and see which feature were used to create this training; \n",
    "* perform time-travel and see how features looked like when this training dataset was created ;\n",
    "* reconstruct feature order during model inferencing.     "
   ]
  },
  {
   "cell_type": "markdown",
   "metadata": {},
   "source": [
    "### Create graph edge training datasets "
   ]
  },
  {
   "cell_type": "code",
   "execution_count": 9,
   "metadata": {},
   "outputs": [],
   "source": [
    "edges = transactions_fg.select([\"source\",\"target\",\"tran_id\",\"tx_type\",\"base_amt\"]).join(alert_transactions_fg.select([\"is_sar\"]),[\"tran_id\"],\"left\")"
   ]
  },
  {
   "cell_type": "code",
   "execution_count": 10,
   "metadata": {},
   "outputs": [
    {
     "name": "stdout",
     "output_type": "stream",
     "text": [
      "+--------+--------+-------+-------+--------+------+\n",
      "|  source|  target|tran_id|tx_type|base_amt|is_sar|\n",
      "+--------+--------+-------+-------+--------+------+\n",
      "|72555c71|6c344249|  36131|      4| 2775.22|     1|\n",
      "|b0fe7e18|e6c76032| 811151|      4|  112.19|     1|\n",
      "|5a89d195|2a348960| 864390|      4|  107.84|     1|\n",
      "|78fd2e68|4f8b7770| 252225|      4| 2502.73|     1|\n",
      "|a1b4f889|4f8b7770| 256932|      4| 2502.73|     1|\n",
      "|c5d0e6ca|8fab72e6| 333603|      4| 2657.36|     1|\n",
      "|ab638a8a|d429553b| 507116|      4| 2816.58|     1|\n",
      "|6d4543d6|ea80e43e| 514090|      4| 2534.92|     1|\n",
      "|a1b3bc5e|396e2618| 769337|      4| 2721.35|     1|\n",
      "|a670af3d|313c12f6| 778521|      4| 2491.18|     1|\n",
      "|67d2ab78|1a211334| 867611|      4| 2830.43|     1|\n",
      "|4c52d76b|0c81ba35| 137352|      4|   94.95|     1|\n",
      "|f48fcd16|36377e59| 601420|      4| 2516.74|     1|\n",
      "|75178e11|fa1ca6b5| 832202|      4| 2867.47|     1|\n",
      "|69d84dfc|053485ef| 852249|      4| 2580.73|     1|\n",
      "|edfe718c|19857dba| 856332|      4|   103.5|     1|\n",
      "|b98c31fe|3d8cda54| 867823|      4| 2946.47|     1|\n",
      "|96e6a005|1439e502|  93477|      4| 2637.92|     1|\n",
      "|208d7af9|11d52a92| 248494|      4|   66.64|     1|\n",
      "|e9bed8ca|e31a8760| 400248|      4| 2904.46|     1|\n",
      "+--------+--------+-------+-------+--------+------+\n",
      "only showing top 20 rows"
     ]
    }
   ],
   "source": [
    "edges.read().show()"
   ]
  },
  {
   "cell_type": "code",
   "execution_count": 11,
   "metadata": {},
   "outputs": [],
   "source": [
    "edges_td_meta = fs.create_training_dataset(name=\"edges_td\",\n",
    "                                           version=1,\n",
    "                                           data_format=\"csv\",\n",
    "                                           label = [\"is_sar\"],   \n",
    "                                           description=\"edges training dataset\",\n",
    "                                           coalesce=True,\n",
    "                                           statistics_config={\"enabled\": True, \"histograms\": True, \"correlations\": False}\n",
    "                                          )\n",
    "edges_td_meta.save(edges)"
   ]
  },
  {
   "cell_type": "markdown",
   "metadata": {},
   "source": [
    "### Create graph node training dataset"
   ]
  },
  {
   "cell_type": "code",
   "execution_count": 18,
   "metadata": {},
   "outputs": [
    {
     "name": "stdout",
     "output_type": "stream",
     "text": [
      "+--------+----+\n",
      "|      id|type|\n",
      "+--------+----+\n",
      "|0016359b|   0|\n",
      "|0019b8d0|   0|\n",
      "|001dcc27|   1|\n",
      "|00298665|   1|\n",
      "|003cd8f3|   0|\n",
      "|003e2533|   0|\n",
      "|00403fbd|   1|\n",
      "|00498ec2|   1|\n",
      "|0049ee5b|   0|\n",
      "|0054a022|   0|\n",
      "|00575ac9|   0|\n",
      "|005c0c19|   1|\n",
      "|006ac170|   1|\n",
      "|006cc052|   0|\n",
      "|0075d230|   1|\n",
      "|007749eb|   0|\n",
      "|00794932|   1|\n",
      "|007f2674|   0|\n",
      "|007f76dc|   1|\n",
      "|0081b086|   0|\n",
      "+--------+----+\n",
      "only showing top 20 rows"
     ]
    }
   ],
   "source": [
    "nodes = party_fg.select_all()\n",
    "nodes.read().show()\n",
    "\n",
    "node_td_meta = fs.create_training_dataset(name=\"node_td\",\n",
    "                                          version=1,\n",
    "                                          data_format=\"csv\",   \n",
    "                                          description=\"node training dataset\",\n",
    "                                          statistics_config={\"enabled\": True, \"histograms\": True, \"correlations\": False},\n",
    "                                          coalesce=True)\n",
    "node_td_meta.save(nodes)"
   ]
  },
  {
   "cell_type": "markdown",
   "metadata": {},
   "source": [
    "## create derived feature group `alert_nodes_fg`, wheater nodes were part of previously known money laundering scheme or not"
   ]
  },
  {
   "cell_type": "code",
   "execution_count": 13,
   "metadata": {},
   "outputs": [
    {
     "name": "stdout",
     "output_type": "stream",
     "text": [
      "+--------+------+\n",
      "|      id|is_sar|\n",
      "+--------+------+\n",
      "|33a8ff5b|     1|\n",
      "|43e028ef|     1|\n",
      "|fcf3bbf3|     1|\n",
      "|8b9017b8|     1|\n",
      "|9c187eed|     1|\n",
      "|65636b63|     1|\n",
      "|68c0230d|     1|\n",
      "|550a25ff|     1|\n",
      "|d73e5230|     1|\n",
      "|c0be245b|     1|\n",
      "|cdbd2ed5|     1|\n",
      "|963b978f|     1|\n",
      "|84563a83|     1|\n",
      "|da77c74b|     1|\n",
      "|840701de|     1|\n",
      "|dc37f73b|     1|\n",
      "|b0f4351c|     1|\n",
      "|dd2ebcf1|     1|\n",
      "|c29d75dc|     1|\n",
      "|d7c99aa5|     1|\n",
      "+--------+------+\n",
      "only showing top 20 rows"
     ]
    }
   ],
   "source": [
    "alert_edges = edges.read().where(F.col(\"is_sar\")==1)\n",
    "alert_sources = alert_edges.select([\"source\"]).toDF(\"id\")\n",
    "alert_targets = alert_edges.select([\"target\"]).toDF(\"id\")\n",
    "alert_nodes = alert_sources.union(alert_targets).dropDuplicates(subset=[\"id\"])\n",
    "alert_nodes = alert_nodes.withColumn(\"is_sar\",F.lit(1))\n",
    "alert_nodes.cache()\n",
    "alert_nodes.show()"
   ]
  },
  {
   "cell_type": "code",
   "execution_count": 19,
   "metadata": {},
   "outputs": [
    {
     "name": "stdout",
     "output_type": "stream",
     "text": [
      "+--------+----+------+\n",
      "|      id|type|is_sar|\n",
      "+--------+----+------+\n",
      "|0016359b|   0|     0|\n",
      "|0019b8d0|   0|     0|\n",
      "|001dcc27|   1|     0|\n",
      "|00298665|   1|     0|\n",
      "|003cd8f3|   0|     0|\n",
      "|003e2533|   0|     0|\n",
      "|00403fbd|   1|     0|\n",
      "|00498ec2|   1|     0|\n",
      "|0049ee5b|   0|     0|\n",
      "|0054a022|   0|     0|\n",
      "|00575ac9|   0|     0|\n",
      "|005c0c19|   1|     0|\n",
      "|006ac170|   1|     0|\n",
      "|006cc052|   0|     0|\n",
      "|0075d230|   1|     0|\n",
      "|007749eb|   0|     1|\n",
      "|00794932|   1|     0|\n",
      "|007f2674|   0|     1|\n",
      "|007f76dc|   1|     0|\n",
      "|0081b086|   0|     0|\n",
      "+--------+----+------+\n",
      "only showing top 20 rows"
     ]
    }
   ],
   "source": [
    "alert_nodes_df = nodes.read().join(alert_nodes,[\"id\"], \"left\").withColumn(\"is_sar\",F.when(F.col(\"is_sar\") == 1, F.col(\"is_sar\")).otherwise(0))\n",
    "alert_nodes_df.cache()\n",
    "alert_nodes_df.show()"
   ]
  },
  {
   "cell_type": "code",
   "execution_count": 20,
   "metadata": {},
   "outputs": [
    {
     "name": "stdout",
     "output_type": "stream",
     "text": [
      "816"
     ]
    }
   ],
   "source": [
    "alert_nodes_df.where(F.col(\"is_sar\") == 1).count()"
   ]
  },
  {
   "cell_type": "code",
   "execution_count": 21,
   "metadata": {},
   "outputs": [
    {
     "name": "stdout",
     "output_type": "stream",
     "text": [
      "6531"
     ]
    }
   ],
   "source": [
    "alert_nodes_df.where(F.col(\"is_sar\") == 0).count()"
   ]
  },
  {
   "cell_type": "code",
   "execution_count": 22,
   "metadata": {},
   "outputs": [],
   "source": [
    "# we are going to use hudi options that is suited to the size of our dataset \n",
    "extra_hudi_options = {\n",
    "    \"hoodie.bulkinsert.shuffle.parallelism\":\"1\", \n",
    "    \"hoodie.insert.shuffle.parallelism\":\"1\", \n",
    "    \"hoodie.upsert.shuffle.parallelism\":\"1\",\n",
    "    \"hoodie.parquet.compression.ratio\":\"0.5\"\n",
    "}\n",
    "\n",
    "alert_nodes_fg = fs.create_feature_group(name=\"alert_nodes_fg\",\n",
    "                                       version=1,\n",
    "                                       primary_key=[\"id\"],\n",
    "                                       description=\"node embeddings from transactions, derived fg\",\n",
    "                                       time_travel_format=\"HUDI\",     \n",
    "                                       online_enabled=True,                                                \n",
    "                                       statistics_config=False)\n",
    "\n",
    "alert_nodes_fg.save(alert_nodes_df, extra_hudi_options)"
   ]
  },
  {
   "cell_type": "markdown",
   "metadata": {},
   "source": [
    "### Training datasets exploration from the user interface\n",
    "\n",
    "##### Hopsworks provides user interface that enables to discover and explore avaibale Training datasets and related features. Bellow screen shot demonstrates how one can preview list of available features in `edges_td` and get basic information such us identify feature types and which one is as a label.   "
   ]
  },
  {
   "cell_type": "markdown",
   "metadata": {},
   "source": [
    "![Incremental Feature Engineering](./images/td_features.png)"
   ]
  },
  {
   "cell_type": "markdown",
   "metadata": {},
   "source": [
    "##### One of the important steps of training dataset exploration is discover distribution of ist features. Since we enabled statistics to be computed durring training dataset creation we can easily preview descriptive statitsics. If training dataset has splits we can also preview statitics for each split separately and campare distributions to make sure that train and test splits have similar distibutions.   \n"
   ]
  },
  {
   "cell_type": "markdown",
   "metadata": {},
   "source": [
    "![Incremental Feature Engineering](./images/td_stats.png)"
   ]
  },
  {
   "cell_type": "markdown",
   "metadata": {},
   "source": [
    "##### Hopsworks UI also give access to training dataset activity timeline metadata.  \n",
    "![Incremental Feature Engineering](./images/td_activity.png)"
   ]
  },
  {
   "cell_type": "code",
   "execution_count": null,
   "metadata": {},
   "outputs": [],
   "source": []
  }
 ],
 "metadata": {
  "kernelspec": {
   "display_name": "Python",
   "language": "python",
   "name": "python3"
  },
  "language_info": {
   "codemirror_mode": {
    "name": "ipython",
    "version": 3
   },
   "file_extension": ".py",
   "mimetype": "text/x-python",
   "name": "python",
   "nbconvert_exporter": "python",
   "pygments_lexer": "ipython3",
   "version": "3.7.10"
  }
 },
 "nbformat": 4,
 "nbformat_minor": 4
}
