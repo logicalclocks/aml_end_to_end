{
 "cells": [
  {
   "cell_type": "code",
   "execution_count": 1,
   "metadata": {},
   "outputs": [
    {
     "name": "stdout",
     "output_type": "stream",
     "text": [
      "Starting Spark application\n"
     ]
    },
    {
     "data": {
      "text/html": [
       "<table>\n",
       "<tr><th>ID</th><th>YARN Application ID</th><th>Kind</th><th>State</th><th>Spark UI</th><th>Driver log</th></tr><tr><td>3</td><td>application_1613335206545_0001</td><td>pyspark</td><td>idle</td><td><a target=\"_blank\" href=\"http://resourcemanager.service.consul:8088/proxy/application_1613335206545_0001/\">Link</a></td><td><a target=\"_blank\" href=\"http://amlsim-worker-1.internal.cloudapp.net:8042/node/containerlogs/container_e04_1613335206545_0001_01_000001/amlsim__meb10179\">Link</a></td></tr></table>"
      ],
      "text/plain": [
       "<IPython.core.display.HTML object>"
      ]
     },
     "metadata": {},
     "output_type": "display_data"
    },
    {
     "name": "stdout",
     "output_type": "stream",
     "text": [
      "SparkSession available as 'spark'.\n",
      "<pyspark.sql.session.SparkSession object at 0x7ff05dc49f10>"
     ]
    }
   ],
   "source": [
    "spark"
   ]
  },
  {
   "cell_type": "code",
   "execution_count": 2,
   "metadata": {},
   "outputs": [],
   "source": [
    "import hashlib\n",
    "from datetime import datetime\n",
    "from pyspark.sql import functions as F\n",
    "from pyspark.sql.types import FloatType\n",
    "import hsfs"
   ]
  },
  {
   "cell_type": "code",
   "execution_count": 3,
   "metadata": {},
   "outputs": [
    {
     "name": "stdout",
     "output_type": "stream",
     "text": [
      "Connected. Call `.close()` to terminate connection gracefully."
     ]
    }
   ],
   "source": [
    "# Create a connection\n",
    "connection = hsfs.connection()\n",
    "# Get the feature store handle for the project's feature store\n",
    "fs = connection.get_feature_store()"
   ]
  },
  {
   "cell_type": "markdown",
   "metadata": {},
   "source": [
    "## Load transactions feature group from hsfs"
   ]
  },
  {
   "cell_type": "code",
   "execution_count": 4,
   "metadata": {},
   "outputs": [
    {
     "name": "stdout",
     "output_type": "stream",
     "text": [
      "+--------+-------+--------------+-------+--------+--------+\n",
      "|     dst|tran_id|tran_timestamp|tx_type|     src|base_amt|\n",
      "+--------+-------+--------------+-------+--------+--------+\n",
      "|1e46e726|    496|        Jan-01|      4|3aa9646b|  858.77|\n",
      "|a74d1101|   1342|        Jan-01|      4|49203bc3|  386.86|\n",
      "|99af2455|   1580|        Jan-02|      4|616d4505|  616.43|\n",
      "|e7ec7bdb|   2866|        Jan-02|      4|39be1ea2|  146.44|\n",
      "|afc399a9|   3997|        Jan-03|      4|e2e0d938|  439.09|\n",
      "|d7a317f6|   5518|        Jan-04|      4|75c9a805|   361.0|\n",
      "|733a496b|   7340|        Jan-06|      4|c14f4989|  768.98|\n",
      "|aa49b0eb|   9376|        Jan-07|      4|576eb672|   943.4|\n",
      "|b070a6bb|  10362|        Jan-08|      4|847a9cf6|   668.3|\n",
      "|586377aa|  10817|        Jan-08|      4|12a388ff|  139.84|\n",
      "|1b467848|  11317|        Jan-08|      4|b36f9c84|  499.47|\n",
      "|385afb8b|  11748|        Jan-09|      4|362e42e0|  357.96|\n",
      "|acd60eca|  13285|        Jan-10|      4|572014da|   630.9|\n",
      "|31976e38|  14832|        Jan-11|      4|5ff2d9a7|  685.07|\n",
      "|fcf3bbf3|  15619|        Jan-11|      4|24bf603c|  964.81|\n",
      "|ca0967a6|  16574|        Jan-12|      4|9a118f8d|  919.76|\n",
      "|bc0de3c7|  18944|        Jan-14|      4|65b8a85f|  302.26|\n",
      "|31db9495|  19204|        Jan-14|      4|d7a317f6|  637.18|\n",
      "|3a63a8fc|  19530|        Jan-14|      4|95aac0c4|  630.43|\n",
      "|f388cc0f|  20382|        Jan-15|      4|5411dc34|  374.73|\n",
      "+--------+-------+--------------+-------+--------+--------+\n",
      "only showing top 20 rows"
     ]
    }
   ],
   "source": [
    "transactions_fg = fs.get_feature_group(\"transactions_fg\", 1)\n",
    "transactions_df = transactions_fg.read()\n",
    "transactions_df.show()"
   ]
  },
  {
   "cell_type": "markdown",
   "metadata": {},
   "source": [
    "## Load alert transactions feature group from hsfs"
   ]
  },
  {
   "cell_type": "code",
   "execution_count": 5,
   "metadata": {},
   "outputs": [
    {
     "name": "stdout",
     "output_type": "stream",
     "text": [
      "+--------------+------+-------+--------+\n",
      "|    alert_type|is_sar|tran_id|alert_id|\n",
      "+--------------+------+-------+--------+\n",
      "|gather_scatter|  true|  11873|      47|\n",
      "|gather_scatter|  true|  11874|      47|\n",
      "|gather_scatter|  true|  11875|      47|\n",
      "|gather_scatter|  true|  13151|      47|\n",
      "|gather_scatter|  true|  23148|      47|\n",
      "|scatter_gather|  true|  23779|      17|\n",
      "|scatter_gather|  true|  23780|      17|\n",
      "|scatter_gather|  true|  26441|      17|\n",
      "|scatter_gather|  true|  26442|      17|\n",
      "|gather_scatter|  true|  28329|      47|\n",
      "|gather_scatter|  true|  31581|      47|\n",
      "|gather_scatter|  true|  34310|      47|\n",
      "|scatter_gather|  true|  34433|      17|\n",
      "|gather_scatter|  true|  36131|      58|\n",
      "|scatter_gather|  true|  36563|      17|\n",
      "|scatter_gather|  true|  41430|      17|\n",
      "|scatter_gather|  true|  42363|      17|\n",
      "|gather_scatter|  true|  42511|      58|\n",
      "|gather_scatter|  true|  44370|      58|\n",
      "|gather_scatter|  true|  46176|      58|\n",
      "+--------------+------+-------+--------+\n",
      "only showing top 20 rows"
     ]
    }
   ],
   "source": [
    "alert_transactions_fg = fs.get_feature_group(\"alert_transactions_fg\", 1)\n",
    "alert_transactions_df = alert_transactions_fg.read()\n",
    "alert_transactions_df.show()"
   ]
  },
  {
   "cell_type": "markdown",
   "metadata": {},
   "source": [
    "## Load party feature group from hsfs"
   ]
  },
  {
   "cell_type": "code",
   "execution_count": 6,
   "metadata": {},
   "outputs": [
    {
     "name": "stdout",
     "output_type": "stream",
     "text": [
      "+--------+----+\n",
      "|      id|type|\n",
      "+--------+----+\n",
      "|5628bd6c|   0|\n",
      "|a1fcba39|   0|\n",
      "|f56c9501|   1|\n",
      "|9969afdd|   0|\n",
      "|b356eeae|   1|\n",
      "|3406706a|   0|\n",
      "|26c56102|   0|\n",
      "|e386ebf7|   1|\n",
      "|8c094b0d|   1|\n",
      "|939235aa|   1|\n",
      "|de6bf2a5|   0|\n",
      "|33a8ff5b|   0|\n",
      "|a32807a1|   1|\n",
      "|2906ef08|   0|\n",
      "|c2a01b8d|   1|\n",
      "|5a99160f|   1|\n",
      "|8b9017b8|   0|\n",
      "|fcf3bbf3|   1|\n",
      "|5132aa4d|   0|\n",
      "|68b90958|   1|\n",
      "+--------+----+\n",
      "only showing top 20 rows"
     ]
    }
   ],
   "source": [
    "party_fg = fs.get_feature_group(\"party_fg\", 1)\n",
    "party_df = party_fg.read()\n",
    "party_df.show()"
   ]
  },
  {
   "cell_type": "code",
   "execution_count": null,
   "metadata": {},
   "outputs": [],
   "source": []
  },
  {
   "cell_type": "markdown",
   "metadata": {},
   "source": [
    "## Create graph edge training dataset"
   ]
  },
  {
   "cell_type": "code",
   "execution_count": 7,
   "metadata": {},
   "outputs": [
    {
     "name": "stdout",
     "output_type": "stream",
     "text": [
      "915"
     ]
    }
   ],
   "source": [
    "alert_transactions_df.count()"
   ]
  },
  {
   "cell_type": "code",
   "execution_count": 8,
   "metadata": {},
   "outputs": [
    {
     "name": "stdout",
     "output_type": "stream",
     "text": [
      "438386"
     ]
    }
   ],
   "source": [
    "transactions_df.count()"
   ]
  },
  {
   "cell_type": "code",
   "execution_count": 9,
   "metadata": {},
   "outputs": [],
   "source": [
    "edges = transactions_df.join(alert_transactions_df,[\"tran_id\"],\"left\")\n",
    "edges = edges.withColumn(\"is_sar\",F.when(F.col(\"is_sar\") == \"true\", 1).otherwise(0))\\\n",
    "             .select(\"src\",\"dst\",\"tx_type\",\"base_amt\",\"tran_id\",\"is_sar\")\\\n",
    "             .toDF('source', 'target', 'tx_type', 'base_amt', 'tran_id', 'is_sar')"
   ]
  },
  {
   "cell_type": "code",
   "execution_count": 10,
   "metadata": {},
   "outputs": [
    {
     "name": "stdout",
     "output_type": "stream",
     "text": [
      "+--------+--------+-------+--------+-------+------+\n",
      "|  source|  target|tx_type|base_amt|tran_id|is_sar|\n",
      "+--------+--------+-------+--------+-------+------+\n",
      "|3aa9646b|1e46e726|      4|  858.77|    496|     0|\n",
      "|49203bc3|a74d1101|      4|  386.86|   1342|     0|\n",
      "|616d4505|99af2455|      4|  616.43|   1580|     0|\n",
      "|39be1ea2|e7ec7bdb|      4|  146.44|   2866|     0|\n",
      "|e2e0d938|afc399a9|      4|  439.09|   3997|     0|\n",
      "|75c9a805|d7a317f6|      4|   361.0|   5518|     0|\n",
      "|c14f4989|733a496b|      4|  768.98|   7340|     0|\n",
      "|576eb672|aa49b0eb|      4|   943.4|   9376|     0|\n",
      "|847a9cf6|b070a6bb|      4|   668.3|  10362|     0|\n",
      "|12a388ff|586377aa|      4|  139.84|  10817|     0|\n",
      "|b36f9c84|1b467848|      4|  499.47|  11317|     0|\n",
      "|362e42e0|385afb8b|      4|  357.96|  11748|     0|\n",
      "|572014da|acd60eca|      4|   630.9|  13285|     0|\n",
      "|5ff2d9a7|31976e38|      4|  685.07|  14832|     0|\n",
      "|24bf603c|fcf3bbf3|      4|  964.81|  15619|     0|\n",
      "|9a118f8d|ca0967a6|      4|  919.76|  16574|     0|\n",
      "|65b8a85f|bc0de3c7|      4|  302.26|  18944|     0|\n",
      "|d7a317f6|31db9495|      4|  637.18|  19204|     0|\n",
      "|95aac0c4|3a63a8fc|      4|  630.43|  19530|     0|\n",
      "|5411dc34|f388cc0f|      4|  374.73|  20382|     0|\n",
      "+--------+--------+-------+--------+-------+------+\n",
      "only showing top 20 rows"
     ]
    }
   ],
   "source": [
    "edges.show()"
   ]
  },
  {
   "cell_type": "code",
   "execution_count": 11,
   "metadata": {},
   "outputs": [
    {
     "name": "stdout",
     "output_type": "stream",
     "text": [
      "438386"
     ]
    }
   ],
   "source": [
    "edges.count()"
   ]
  },
  {
   "cell_type": "code",
   "execution_count": 12,
   "metadata": {},
   "outputs": [
    {
     "name": "stdout",
     "output_type": "stream",
     "text": [
      "915"
     ]
    }
   ],
   "source": [
    "edges.where(F.col(\"is_sar\")==1).count()"
   ]
  },
  {
   "cell_type": "code",
   "execution_count": 13,
   "metadata": {},
   "outputs": [
    {
     "name": "stdout",
     "output_type": "stream",
     "text": [
      "<hsfs.training_dataset.TrainingDataset object at 0x7ff0115cd3d0>"
     ]
    }
   ],
   "source": [
    "edges_td_meta = fs.create_training_dataset(name=\"edges_td\",\n",
    "                                       version=1,\n",
    "                                       data_format=\"csv\",\n",
    "                                       label = [\"is_sar\"],   \n",
    "                                       description=\"edges training dataset\")\n",
    "edges_td_meta.save(edges)"
   ]
  },
  {
   "cell_type": "markdown",
   "metadata": {},
   "source": [
    "## Create graph node training dataset"
   ]
  },
  {
   "cell_type": "code",
   "execution_count": 14,
   "metadata": {},
   "outputs": [
    {
     "name": "stdout",
     "output_type": "stream",
     "text": [
      "+--------+\n",
      "|      id|\n",
      "+--------+\n",
      "|26c56102|\n",
      "|9969afdd|\n",
      "|2906ef08|\n",
      "|5a99160f|\n",
      "|de6bf2a5|\n",
      "|b356eeae|\n",
      "|f56c9501|\n",
      "|a32807a1|\n",
      "|939235aa|\n",
      "|e386ebf7|\n",
      "|33a8ff5b|\n",
      "|a9edaba6|\n",
      "|8c094b0d|\n",
      "|fcf3bbf3|\n",
      "|5628bd6c|\n",
      "|a1fcba39|\n",
      "|c2a01b8d|\n",
      "|7138cbc6|\n",
      "|3406706a|\n",
      "|68b90958|\n",
      "+--------+\n",
      "only showing top 20 rows"
     ]
    }
   ],
   "source": [
    "sources = edges.select([\"source\"]).toDF(\"id\")\n",
    "targets = edges.select([\"target\"]).toDF(\"id\")\n",
    "nodes = sources.union(targets).dropDuplicates(subset=[\"id\"])\n",
    "nodes.show()"
   ]
  },
  {
   "cell_type": "code",
   "execution_count": 15,
   "metadata": {},
   "outputs": [
    {
     "name": "stdout",
     "output_type": "stream",
     "text": [
      "7347"
     ]
    }
   ],
   "source": [
    "nodes.count()"
   ]
  },
  {
   "cell_type": "code",
   "execution_count": 16,
   "metadata": {},
   "outputs": [
    {
     "name": "stdout",
     "output_type": "stream",
     "text": [
      "7347"
     ]
    }
   ],
   "source": [
    "nodes_td = nodes.join(party_df, [\"id\"])\n",
    "nodes_td.count()"
   ]
  },
  {
   "cell_type": "code",
   "execution_count": 17,
   "metadata": {},
   "outputs": [
    {
     "name": "stdout",
     "output_type": "stream",
     "text": [
      "+--------+----+\n",
      "|      id|type|\n",
      "+--------+----+\n",
      "|26c56102|   0|\n",
      "|9969afdd|   0|\n",
      "|2906ef08|   0|\n",
      "|5a99160f|   1|\n",
      "|de6bf2a5|   0|\n",
      "|b356eeae|   1|\n",
      "|f56c9501|   1|\n",
      "|a32807a1|   1|\n",
      "|939235aa|   1|\n",
      "|e386ebf7|   1|\n",
      "|33a8ff5b|   0|\n",
      "|a9edaba6|   0|\n",
      "|8c094b0d|   1|\n",
      "|fcf3bbf3|   1|\n",
      "|5628bd6c|   0|\n",
      "|a1fcba39|   0|\n",
      "|c2a01b8d|   1|\n",
      "|7138cbc6|   1|\n",
      "|3406706a|   0|\n",
      "|68b90958|   1|\n",
      "+--------+----+\n",
      "only showing top 20 rows"
     ]
    }
   ],
   "source": [
    "nodes_td.show()"
   ]
  },
  {
   "cell_type": "code",
   "execution_count": 18,
   "metadata": {},
   "outputs": [
    {
     "name": "stdout",
     "output_type": "stream",
     "text": [
      "<hsfs.training_dataset.TrainingDataset object at 0x7ff011147a90>"
     ]
    }
   ],
   "source": [
    "node_td_meta = fs.create_training_dataset(name=\"node_td\",\n",
    "                                       version=1,\n",
    "                                       data_format=\"csv\",   \n",
    "                                       description=\"node training dataset\")\n",
    "node_td_meta.save(nodes_td)"
   ]
  }
 ],
 "metadata": {
  "kernelspec": {
   "display_name": "PySpark",
   "language": "python",
   "name": "pysparkkernel"
  },
  "language_info": {
   "codemirror_mode": {
    "name": "python",
    "version": 3
   },
   "mimetype": "text/x-python",
   "name": "pyspark",
   "pygments_lexer": "python3"
  }
 },
 "nbformat": 4,
 "nbformat_minor": 4
}
